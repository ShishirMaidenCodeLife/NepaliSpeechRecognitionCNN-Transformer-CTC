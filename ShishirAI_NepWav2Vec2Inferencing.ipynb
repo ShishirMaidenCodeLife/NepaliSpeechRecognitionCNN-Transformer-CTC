{
 "cells": [
  {
   "cell_type": "code",
   "execution_count": null,
   "id": "a6f5dd3d-788e-445e-bc2b-941f3046a9a7",
   "metadata": {},
   "outputs": [],
   "source": [
    "### PIPELINING The saved model ####"
   ]
  },
  {
   "cell_type": "code",
   "execution_count": 1,
   "id": "2af4decb-a8c0-4bb9-80f9-7d053097eba4",
   "metadata": {},
   "outputs": [
    {
     "name": "stdout",
     "output_type": "stream",
     "text": [
      "Requirement already satisfied: sounddevice in c:\\users\\shishir\\miniconda3\\envs\\ilprl\\lib\\site-packages (0.4.6)\n",
      "Requirement already satisfied: CFFI>=1.0 in c:\\users\\shishir\\miniconda3\\envs\\ilprl\\lib\\site-packages (from sounddevice) (1.15.1)\n",
      "Requirement already satisfied: pycparser in c:\\users\\shishir\\miniconda3\\envs\\ilprl\\lib\\site-packages (from CFFI>=1.0->sounddevice) (2.21)\n"
     ]
    },
    {
     "name": "stderr",
     "output_type": "stream",
     "text": [
      "WARNING: Ignoring invalid distribution ~uggingface-hub (C:\\Users\\Shishir\\miniconda3\\envs\\ILPRL\\Lib\\site-packages)\n",
      "DEPRECATION: Loading egg at c:\\users\\shishir\\miniconda3\\envs\\ilprl\\lib\\site-packages\\huggingface_hub-0.16.4-py3.8.egg is deprecated. pip 23.3 will enforce this behaviour change. A possible replacement is to use pip for package installation..\n",
      "WARNING: Ignoring invalid distribution ~uggingface-hub (C:\\Users\\Shishir\\miniconda3\\envs\\ILPRL\\Lib\\site-packages)\n"
     ]
    },
    {
     "name": "stdout",
     "output_type": "stream",
     "text": [
      "Requirement already satisfied: wavio in c:\\users\\shishir\\miniconda3\\envs\\ilprl\\lib\\site-packages (0.0.7)\n",
      "Requirement already satisfied: numpy>=1.19.0 in c:\\users\\shishir\\miniconda3\\envs\\ilprl\\lib\\site-packages (from wavio) (1.24.4)\n"
     ]
    },
    {
     "name": "stderr",
     "output_type": "stream",
     "text": [
      "WARNING: Ignoring invalid distribution ~uggingface-hub (C:\\Users\\Shishir\\miniconda3\\envs\\ILPRL\\Lib\\site-packages)\n",
      "DEPRECATION: Loading egg at c:\\users\\shishir\\miniconda3\\envs\\ilprl\\lib\\site-packages\\huggingface_hub-0.16.4-py3.8.egg is deprecated. pip 23.3 will enforce this behaviour change. A possible replacement is to use pip for package installation..\n",
      "WARNING: Ignoring invalid distribution ~uggingface-hub (C:\\Users\\Shishir\\miniconda3\\envs\\ILPRL\\Lib\\site-packages)\n"
     ]
    },
    {
     "name": "stdout",
     "output_type": "stream",
     "text": [
      "Requirement already satisfied: scipy in c:\\users\\shishir\\miniconda3\\envs\\ilprl\\lib\\site-packages (1.11.1)\n",
      "Requirement already satisfied: numpy<1.28.0,>=1.21.6 in c:\\users\\shishir\\miniconda3\\envs\\ilprl\\lib\\site-packages (from scipy) (1.24.4)\n"
     ]
    },
    {
     "name": "stderr",
     "output_type": "stream",
     "text": [
      "WARNING: Ignoring invalid distribution ~uggingface-hub (C:\\Users\\Shishir\\miniconda3\\envs\\ILPRL\\Lib\\site-packages)\n",
      "DEPRECATION: Loading egg at c:\\users\\shishir\\miniconda3\\envs\\ilprl\\lib\\site-packages\\huggingface_hub-0.16.4-py3.8.egg is deprecated. pip 23.3 will enforce this behaviour change. A possible replacement is to use pip for package installation..\n",
      "WARNING: Ignoring invalid distribution ~uggingface-hub (C:\\Users\\Shishir\\miniconda3\\envs\\ILPRL\\Lib\\site-packages)\n"
     ]
    },
    {
     "name": "stdout",
     "output_type": "stream",
     "text": [
      "Requirement already satisfied: soundfile in c:\\users\\shishir\\miniconda3\\envs\\ilprl\\lib\\site-packages (0.12.1)\n",
      "Requirement already satisfied: cffi>=1.0 in c:\\users\\shishir\\miniconda3\\envs\\ilprl\\lib\\site-packages (from soundfile) (1.15.1)\n",
      "Requirement already satisfied: pycparser in c:\\users\\shishir\\miniconda3\\envs\\ilprl\\lib\\site-packages (from cffi>=1.0->soundfile) (2.21)\n"
     ]
    },
    {
     "name": "stderr",
     "output_type": "stream",
     "text": [
      "WARNING: Ignoring invalid distribution ~uggingface-hub (C:\\Users\\Shishir\\miniconda3\\envs\\ILPRL\\Lib\\site-packages)\n",
      "DEPRECATION: Loading egg at c:\\users\\shishir\\miniconda3\\envs\\ilprl\\lib\\site-packages\\huggingface_hub-0.16.4-py3.8.egg is deprecated. pip 23.3 will enforce this behaviour change. A possible replacement is to use pip for package installation..\n",
      "WARNING: Ignoring invalid distribution ~uggingface-hub (C:\\Users\\Shishir\\miniconda3\\envs\\ILPRL\\Lib\\site-packages)\n"
     ]
    }
   ],
   "source": [
    "# Important:: this model requires cuda, so at first install it using pip3 or conda as below:\n",
    "#!pip3 install torch torchvision torchaudio --index-url https://download.pytorch.org/whl/cu117\n",
    "# or,   \n",
    "#!conda install pytorch torchvision torchaudio pytorch-cuda=11.7 -c pytorch -c nvidia\n",
    "\n",
    "# !pip install transformers torchaudio\n",
    "!pip install sounddevice\n",
    "!pip install wavio\n",
    "!pip install scipy\n",
    "!pip install soundfile\n"
   ]
  },
  {
   "cell_type": "code",
   "execution_count": 2,
   "id": "c274f126-3b89-4a8c-9ade-1d8cc89c33d4",
   "metadata": {},
   "outputs": [
    {
     "name": "stderr",
     "output_type": "stream",
     "text": [
      "C:\\Users\\Shishir\\miniconda3\\envs\\ILPRL\\Lib\\site-packages\\tqdm\\auto.py:21: TqdmWarning: IProgress not found. Please update jupyter and ipywidgets. See https://ipywidgets.readthedocs.io/en/stable/user_install.html\n",
      "  from .autonotebook import tqdm as notebook_tqdm\n",
      "C:\\Users\\Shishir\\miniconda3\\envs\\ILPRL\\Lib\\site-packages\\transformers\\configuration_utils.py:380: UserWarning: Passing `gradient_checkpointing` to a config initialization is deprecated and will be removed in v5 Transformers. Using `model.gradient_checkpointing_enable()` instead, or if you are using the `Trainer` API, pass `gradient_checkpointing=True` in your `TrainingArguments`.\n",
      "  warnings.warn(\n",
      "The tokenizer class you load from this checkpoint is not the same type as the class this function is called from. It may result in unexpected tokenization. \n",
      "The tokenizer class you load from this checkpoint is 'Wav2Vec2CTCTokenizer'. \n",
      "The class this function is called from is 'Wav2Vec2Tokenizer'.\n",
      "C:\\Users\\Shishir\\miniconda3\\envs\\ILPRL\\Lib\\site-packages\\transformers\\models\\wav2vec2\\tokenization_wav2vec2.py:792: FutureWarning: The class `Wav2Vec2Tokenizer` is deprecated and will be removed in version 5 of Transformers. Please use `Wav2Vec2Processor` or `Wav2Vec2CTCTokenizer` instead.\n",
      "  warnings.warn(\n",
      "Special tokens have been added in the vocabulary, make sure the associated word embeddings are fine-tuned or trained.\n"
     ]
    }
   ],
   "source": [
    "from transformers import Wav2Vec2ForCTC\n",
    "from transformers import Wav2Vec2Tokenizer\n",
    "\n",
    "model = Wav2Vec2ForCTC.from_pretrained(\"./ShishirAI_NepWav2Vec2\")\n",
    "tokenizer = Wav2Vec2Tokenizer.from_pretrained(\"./ShishirAI_NepWav2Vec2\")\n",
    "# model.gradient_checkpointing_enable()"
   ]
  },
  {
   "cell_type": "code",
   "execution_count": 3,
   "id": "f716e754-bb9b-45ad-b8b8-a88ff2d935cb",
   "metadata": {},
   "outputs": [],
   "source": [
    "import torch\n",
    "import torchaudio\n",
    "\n",
    "def preprocess_audio(audio_path, target_sample_rate=16000):\n",
    "    waveform, sample_rate = torchaudio.load(audio_path)\n",
    "    resampler = torchaudio.transforms.Resample(orig_freq=sample_rate, new_freq=target_sample_rate)\n",
    "    waveform = resampler(waveform)\n",
    "    return waveform\n",
    "\n",
    "def tokenize_audio(audio_path, tokenizer, target_sample_rate=16000):\n",
    "    waveform = preprocess_audio(audio_path, target_sample_rate)\n",
    "    input_values = tokenizer(waveform.squeeze().numpy(), return_tensors=\"pt\").input_values\n",
    "    return input_values\n",
    "\n",
    "\n"
   ]
  },
  {
   "cell_type": "code",
   "execution_count": 4,
   "id": "362dc37b-14f9-44f7-8d8d-f31e7e752e03",
   "metadata": {},
   "outputs": [],
   "source": [
    "# Function for Predicting the transcription\n",
    "def transcribe_audio(audio_path, model, tokenizer, target_sample_rate=16000):\n",
    "    input_values = tokenize_audio(audio_path, tokenizer, target_sample_rate)\n",
    "    with torch.no_grad():\n",
    "        logits = model(input_values).logits\n",
    "    predicted_ids = torch.argmax(logits, dim=-1)\n",
    "    transcription = tokenizer.batch_decode(predicted_ids, skip_special_tokens=True)[0]\n",
    "    return transcription\n"
   ]
  },
  {
   "cell_type": "code",
   "execution_count": 7,
   "id": "9617bbf2-6fcf-4b4e-ac62-e6251325653b",
   "metadata": {},
   "outputs": [
    {
     "name": "stdout",
     "output_type": "stream",
     "text": [
      "Recording in Progress\n",
      "Recoding Done and saving the audio.\n",
      "Saved in REC folder\n"
     ]
    }
   ],
   "source": [
    "# recoding for specified time : for e.g 8 secs\n",
    "\n",
    "# # import required libraries\n",
    "import sounddevice as sd\n",
    "from scipy.io.wavfile import write\n",
    "import wavio as wv\n",
    " \n",
    "# Sampling frequency\n",
    "freq = 44100\n",
    "# freq = 16000\n",
    "# Recording duration # change this duration as the button click condition\n",
    "duration = 8\n",
    "# Recording\n",
    "recording = sd.rec(int(duration * freq),\n",
    "                   samplerate=freq, channels=2, dtype='int16')\n",
    " \n",
    "# Record audio for the given number of seconds\n",
    "print(\"Recording in Progress\")\n",
    "sd.wait()\n",
    "print(\"Recoding Done and saving the audio.\")\n",
    " \n",
    "# Convering numpy array to audio.\n",
    "write(\"./Rec/file.wav\", freq, recording)\n",
    "print(\"Saved in REC folder\")\n",
    "\n",
    "\n"
   ]
  },
  {
   "cell_type": "code",
   "execution_count": 8,
   "id": "df2444e1-1f56-4890-8a97-30f529033550",
   "metadata": {},
   "outputs": [
    {
     "name": "stdout",
     "output_type": "stream",
     "text": [
      "Press Enter to start recording...\n"
     ]
    },
    {
     "name": "stdin",
     "output_type": "stream",
     "text": [
      " \n"
     ]
    },
    {
     "name": "stdout",
     "output_type": "stream",
     "text": [
      "Recording started. Press Enter again to stop recording.\n",
      "Recording in progress. Press Enter to stop recording.\n"
     ]
    },
    {
     "name": "stdin",
     "output_type": "stream",
     "text": [
      " \n"
     ]
    },
    {
     "name": "stdout",
     "output_type": "stream",
     "text": [
      "Recording saved as './Rec/file.wav'.\n"
     ]
    }
   ],
   "source": [
    "# # recording until the user presses enter.\n",
    "\n",
    "# import sounddevice as sd\n",
    "# import soundfile as sf\n",
    "\n",
    "# # Global variables\n",
    "# freq = 16000\n",
    "\n",
    "# def record_audio(filename):\n",
    "#     recording = sd.rec(int(10 * freq), samplerate=freq, channels=2, dtype='int16')\n",
    "#     print(\"Recording in progress. Press Enter to stop recording.\")\n",
    "#     input()\n",
    "#     sd.wait()\n",
    "#     sf.write(filename, recording, freq)\n",
    "\n",
    "# def main():\n",
    "#     print(\"Press Enter to start recording...\")\n",
    "#     input()\n",
    "#     print(\"Recording started. Press Enter again to stop recording.\")\n",
    "    \n",
    "#     file_name = \"./Rec/file.wav\"\n",
    "#     record_audio(file_name)\n",
    "    \n",
    "#     print(f\"Recording saved as '{file_name}'.\")\n",
    "\n",
    "# if __name__ == \"__main__\":\n",
    "#     main()\n"
   ]
  },
  {
   "cell_type": "code",
   "execution_count": 8,
   "id": "c570d11a-5ab5-4eeb-9384-8f039859e69c",
   "metadata": {},
   "outputs": [
    {
     "name": "stdout",
     "output_type": "stream",
     "text": [
      "मेरो नाम शिसेर पौडेल हो मलाईबालचरलै गाइड गर्ड नु भएको थियो\n"
     ]
    }
   ],
   "source": [
    "import torch\n",
    "# audio_file_path = \"./Rec/file.wav\"\n",
    "audio_file_path = \"./Rec/file.wav\"\n",
    "transcription = transcribe_audio(audio_file_path, model, tokenizer)\n",
    "print(transcription)\n"
   ]
  },
  {
   "cell_type": "code",
   "execution_count": null,
   "id": "1d40d0fa",
   "metadata": {},
   "outputs": [],
   "source": []
  }
 ],
 "metadata": {
  "kernelspec": {
   "display_name": "Python 3 (ipykernel)",
   "language": "python",
   "name": "python3"
  },
  "language_info": {
   "codemirror_mode": {
    "name": "ipython",
    "version": 3
   },
   "file_extension": ".py",
   "mimetype": "text/x-python",
   "name": "python",
   "nbconvert_exporter": "python",
   "pygments_lexer": "ipython3",
   "version": "3.11.4"
  }
 },
 "nbformat": 4,
 "nbformat_minor": 5
}
